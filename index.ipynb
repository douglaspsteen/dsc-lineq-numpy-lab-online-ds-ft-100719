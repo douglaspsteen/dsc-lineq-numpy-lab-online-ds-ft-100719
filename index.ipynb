{
 "cells": [
  {
   "cell_type": "markdown",
   "metadata": {},
   "source": [
    "# Solving Systems of Linear Equations with NumPy - Lab\n",
    "\n",
    "## Introduction \n",
    "\n",
    "Now you've gathered all the required skills needed to solve systems of linear equations. You saw why there was a need to calculate inverses of matrices, followed by matrix multiplication to figure out the values of unknown variables. \n",
    "\n",
    "The exercises in this lab present some problems that can be converted into a system of linear equations. \n",
    "\n",
    "## Objectives\n",
    "You will be able to:\n",
    "\n",
    "- Use matrix algebra and NumPy to solve a system of linear equations given a real-life example \n",
    "- Use NumPy's linear algebra solver to solve for systems of linear equations\n",
    "\n",
    "## Exercise 1\n",
    "\n",
    "A coffee shop is having a sale on coffee and tea. \n",
    "\n",
    "On day 1, 29 bags of coffee and 41 bags of tea were sold, for a total of 490 dollars.\n",
    "\n",
    "On day 2, they sold 23 bags of coffee and 41 bags of tea, for which customers paid a total of 448 dollars.  \n",
    "\n",
    "How much does each bag cost?"
   ]
  },
  {
   "cell_type": "code",
   "execution_count": 4,
   "metadata": {},
   "outputs": [],
   "source": [
    "import numpy as np"
   ]
  },
  {
   "cell_type": "code",
   "execution_count": 11,
   "metadata": {},
   "outputs": [
    {
     "data": {
      "text/plain": [
       "(2, 2)"
      ]
     },
     "execution_count": 11,
     "metadata": {},
     "output_type": "execute_result"
    }
   ],
   "source": [
    "# Create and solve the relevant system of equations\n",
    "# Matrix A: Coefficients for each day\n",
    "A = np.array([[29, 41], [23, 41]])\n",
    "# Matrix B: Totals for each day\n",
    "B = np.array([490, 448])\n",
    "\n",
    "# A dot X = B\n",
    "# Need to find the inverse of A\n",
    "A_inv = np.linalg.inv(A)\n",
    "# Check shape of A_inv\n",
    "np.shape(A_inv)"
   ]
  },
  {
   "cell_type": "code",
   "execution_count": 13,
   "metadata": {},
   "outputs": [
    {
     "name": "stdout",
     "output_type": "stream",
     "text": [
      "[7. 7.]\n"
     ]
    }
   ],
   "source": [
    "# Now, can perform dot product of A_inv and B to solve for X (price per bag coffee and tea)\n",
    "X = A_inv.dot(B)\n",
    "print(X)"
   ]
  },
  {
   "cell_type": "code",
   "execution_count": 14,
   "metadata": {},
   "outputs": [],
   "source": [
    "# Describe your result\n",
    "# A bag of tea and a bag of coffee each cost $7"
   ]
  },
  {
   "cell_type": "markdown",
   "metadata": {},
   "source": [
    "## Exercise 2\n",
    "\n",
    "The cost of admission to a popular music concert was 162 dollars for 12 children and 3 adults. \n",
    "\n",
    "The admission was 122 dollars for 8 children and 3 adults in the same music concert. \n",
    "\n",
    "How much was the admission for each child and adult?"
   ]
  },
  {
   "cell_type": "code",
   "execution_count": 15,
   "metadata": {},
   "outputs": [],
   "source": [
    "# Create and solve the relevant system of equations\n",
    "\n",
    "# Equation 1: 12x + 3y = 162\n",
    "# Equation 2: 8x + 3y = 122\n",
    "# Where x is the price per child, and y is the price per adult\n",
    "\n",
    "# Create coefficient matrix A2\n",
    "A2 = np.array([[12,3], [8,3]])\n",
    "\n",
    "# Create Dollar total matrix B2\n",
    "B2 = np.array([162, 122])"
   ]
  },
  {
   "cell_type": "code",
   "execution_count": 16,
   "metadata": {},
   "outputs": [
    {
     "data": {
      "text/plain": [
       "(2, 2)"
      ]
     },
     "execution_count": 16,
     "metadata": {},
     "output_type": "execute_result"
    }
   ],
   "source": [
    "# A2 dot xy = B2\n",
    "# Need to find the inverse of A2\n",
    "A2_inv = np.linalg.inv(A2)\n",
    "# Check shape of A_inv\n",
    "np.shape(A2_inv)"
   ]
  },
  {
   "cell_type": "code",
   "execution_count": 17,
   "metadata": {},
   "outputs": [
    {
     "name": "stdout",
     "output_type": "stream",
     "text": [
      "[10. 14.]\n"
     ]
    }
   ],
   "source": [
    "# Now, can perform dot product of A2_inv and B2 to solve for xy (price per child and adult)\n",
    "xy = A2_inv.dot(B2)\n",
    "print(xy)"
   ]
  },
  {
   "cell_type": "code",
   "execution_count": null,
   "metadata": {},
   "outputs": [],
   "source": [
    "# Describe your result\n",
    "# Price of admission for child = $10, for adult = $14"
   ]
  },
  {
   "cell_type": "markdown",
   "metadata": {},
   "source": [
    "## Exercise 3\n",
    "\n",
    "You want to make a soup containing tomatoes, carrots, and onions.\n",
    "\n",
    "Suppose you don't know the exact mix to put in, but you know there are 7 individual pieces of vegetables, and there are twice as many tomatoes as onions, and that the 7 pieces of vegetables cost 5.25 USD in total. \n",
    "You also know that onions cost 0.5 USD each, tomatoes cost 0.75 USD and carrots cost 1.25 USD each.\n",
    "\n",
    "Create a system of equations to find out exactly how many of each of the vegetables are in your soup."
   ]
  },
  {
   "cell_type": "code",
   "execution_count": 20,
   "metadata": {},
   "outputs": [
    {
     "name": "stdout",
     "output_type": "stream",
     "text": [
      "(3, 3) (3,)\n"
     ]
    }
   ],
   "source": [
    "# Create and solve the relevant system of equations\n",
    "# x = num. of tomatoes, y = num. of carrots, z = num. of onions\n",
    "# Equation 1: 0.75x + 1.25y + 0.5z = 5.25\n",
    "# Equation 2: 1x + 1y + 1z = 7\n",
    "# Equation 3: 1x + 0y - 2z = 0\n",
    "\n",
    "# Create coefficient matrix A3:\n",
    "A3 = np.array([[0.75,1.25,0.5], [1,1,1], [1,0,-2]])\n",
    "\n",
    "# Create matrix B3\n",
    "B3 = np.array([5.25,7,0])\n",
    "\n",
    "# Check shapes of A3 & B3\n",
    "print(np.shape(A3), np.shape(B3))"
   ]
  },
  {
   "cell_type": "code",
   "execution_count": 21,
   "metadata": {},
   "outputs": [],
   "source": [
    "# Need to take the inverse of A3 before taking dot product of A3_inv and B3\n",
    "A3_inv = np.linalg.inv(A3)"
   ]
  },
  {
   "cell_type": "code",
   "execution_count": 22,
   "metadata": {},
   "outputs": [
    {
     "name": "stdout",
     "output_type": "stream",
     "text": [
      "[4. 1. 2.]\n"
     ]
    }
   ],
   "source": [
    "# Now, can perform dot product of A3_inv and B3 to get x,y,z\n",
    "xyz = A3_inv.dot(B3)\n",
    "print(xyz)"
   ]
  },
  {
   "cell_type": "code",
   "execution_count": 23,
   "metadata": {},
   "outputs": [],
   "source": [
    "# Describe your result\n",
    "# In the soup there are: 4 tomatoes, 1 carrot, and 2 onions"
   ]
  },
  {
   "cell_type": "markdown",
   "metadata": {},
   "source": [
    "## Exercise 4\n",
    "\n",
    "A landlord owns 3 properties: a 1-bedroom, a 2-bedroom, and a 3-bedroom house. \n",
    "\n",
    "The total rent he receives is 1240 USD. \n",
    "\n",
    "He needs to make some repairs, where those repairs cost 10% of the 1-bedroom house’s rent. The 2-bedroom repairs cost 20% of the 2-bedroom rental price and 30% of the 3-bedroom house's rent for its repairs.  The total repair bill for all three houses was 276 USD. \n",
    "\n",
    "The 3-bedroom house's rent is twice the 1-bedroom house’s rent. \n",
    "\n",
    "How much is the individual rent for three houses?"
   ]
  },
  {
   "cell_type": "code",
   "execution_count": 24,
   "metadata": {},
   "outputs": [],
   "source": [
    "# Create and solve the relevant system of equations\n",
    "# j = rent for 1-bedroom, k = rent for 2-bedroom, l = rent for 3-bedroom\n",
    "# Equation #1: 0.1j + 0.2k + 0.3l = 276\n",
    "# Equation #2: j + k + l = 1240\n",
    "# Equation #3: 2j + 0k - 1l = 0\n",
    "\n",
    "# Create coefficient matrix A4\n",
    "A4 = np.array([[0.1,0.2,0.3], [1,1,1], [2,0,-1]])\n",
    "# Create constant matrix B4\n",
    "B4 = np.array([276,1240,0])"
   ]
  },
  {
   "cell_type": "code",
   "execution_count": 25,
   "metadata": {},
   "outputs": [
    {
     "name": "stdout",
     "output_type": "stream",
     "text": [
      "[280. 400. 560.]\n"
     ]
    }
   ],
   "source": [
    "# Need the inverse matrix of A4 to dot product with B4 and obtain jkl\n",
    "A4_inv = np.linalg.inv(A4)\n",
    "jkl = A4_inv.dot(B4)\n",
    "print(jkl)"
   ]
  },
  {
   "cell_type": "code",
   "execution_count": 26,
   "metadata": {},
   "outputs": [],
   "source": [
    "# Describe your result\n",
    "# Rent for properties: 1-bed = $280, 2-bed = $400, 3-bed = $560"
   ]
  },
  {
   "cell_type": "markdown",
   "metadata": {},
   "source": [
    "## Summary\n",
    "In this lab, you learned how to use NumPy to solve linear equations by taking inverses and matrix multiplication and also using numpy's `solve()` function. You'll now take these skills forward and see how you can define a simple regression problem using linear algebra and solve it with Numpy. "
   ]
  }
 ],
 "metadata": {
  "kernelspec": {
   "display_name": "learn-env",
   "language": "python",
   "name": "learn-env"
  },
  "language_info": {
   "codemirror_mode": {
    "name": "ipython",
    "version": 3
   },
   "file_extension": ".py",
   "mimetype": "text/x-python",
   "name": "python",
   "nbconvert_exporter": "python",
   "pygments_lexer": "ipython3",
   "version": "3.6.9"
  },
  "toc": {
   "base_numbering": 1,
   "nav_menu": {},
   "number_sections": true,
   "sideBar": true,
   "skip_h1_title": false,
   "title_cell": "Table of Contents",
   "title_sidebar": "Contents",
   "toc_cell": false,
   "toc_position": {},
   "toc_section_display": true,
   "toc_window_display": false
  },
  "varInspector": {
   "cols": {
    "lenName": 16,
    "lenType": 16,
    "lenVar": 40
   },
   "kernels_config": {
    "python": {
     "delete_cmd_postfix": "",
     "delete_cmd_prefix": "del ",
     "library": "var_list.py",
     "varRefreshCmd": "print(var_dic_list())"
    },
    "r": {
     "delete_cmd_postfix": ") ",
     "delete_cmd_prefix": "rm(",
     "library": "var_list.r",
     "varRefreshCmd": "cat(var_dic_list()) "
    }
   },
   "types_to_exclude": [
    "module",
    "function",
    "builtin_function_or_method",
    "instance",
    "_Feature"
   ],
   "window_display": false
  }
 },
 "nbformat": 4,
 "nbformat_minor": 2
}
